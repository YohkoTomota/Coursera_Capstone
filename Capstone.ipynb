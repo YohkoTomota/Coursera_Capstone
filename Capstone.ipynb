{
 "cells": [
  {
   "cell_type": "markdown",
   "id": "designed-aging",
   "metadata": {},
   "source": [
    "# Cousera IBM data science capstone project"
   ]
  },
  {
   "cell_type": "markdown",
   "id": "convinced-austin",
   "metadata": {},
   "source": [
    "This notebook will be used for capestone project of IBM data science specialization course in Coursera."
   ]
  },
  {
   "cell_type": "code",
   "execution_count": 3,
   "id": "colonial-seafood",
   "metadata": {},
   "outputs": [],
   "source": [
    "#import some packages for example\n",
    "import pandas as pd\n",
    "import numpy as np"
   ]
  },
  {
   "cell_type": "code",
   "execution_count": 4,
   "id": "fixed-floor",
   "metadata": {},
   "outputs": [
    {
     "name": "stdout",
     "output_type": "stream",
     "text": [
      "Hello Capstone Project Course!\n"
     ]
    }
   ],
   "source": [
    "print('Hello Capstone Project Course!')"
   ]
  },
  {
   "cell_type": "code",
   "execution_count": null,
   "id": "shaped-apache",
   "metadata": {},
   "outputs": [],
   "source": []
  }
 ],
 "metadata": {
  "kernelspec": {
   "display_name": "Python 3",
   "language": "python",
   "name": "python3"
  },
  "language_info": {
   "codemirror_mode": {
    "name": "ipython",
    "version": 3
   },
   "file_extension": ".py",
   "mimetype": "text/x-python",
   "name": "python",
   "nbconvert_exporter": "python",
   "pygments_lexer": "ipython3",
   "version": "3.8.5"
  }
 },
 "nbformat": 4,
 "nbformat_minor": 5
}
