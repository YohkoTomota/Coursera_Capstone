{
 "cells": [
  {
   "cell_type": "markdown",
   "id": "wanted-andrews",
   "metadata": {},
   "source": [
    "# Introduction for clustering Osaka\n",
    " \n",
    "For this final project, I decided to work on location data of Osaka, Japan, where I'm living.\n",
    "Osaka is second largest city in Japan and there are a lot of shops and restaurant, but good restaurants are always full of people.\n",
    "On the other hand, data shows that 30% of new restaurant or cafe goes bankrupt within a year, and 50% within 3 years. The reason of the high bankrupt rate is various, but location is one of most important factor, for example, there are too many similar shops, there is no demand for specific shops for residential area and so on. \n",
    "Since I love to have coffee at nice, cozy cafe for a break during work, I'm interested in analyzing location data of osaka, given I would open coffee shop.\n",
    "The target is **area with less cafe** and **not residential but bussiness** oriented aera.\n",
    "\n",
    "Research question ; Where is the best place to open coffee shop in Osaka, Japan?\n",
    "\n",
    "\n"
   ]
  },
  {
   "cell_type": "code",
   "execution_count": null,
   "id": "stretch-architecture",
   "metadata": {},
   "outputs": [],
   "source": []
  }
 ],
 "metadata": {
  "kernelspec": {
   "display_name": "Python 3",
   "language": "python",
   "name": "python3"
  },
  "language_info": {
   "codemirror_mode": {
    "name": "ipython",
    "version": 3
   },
   "file_extension": ".py",
   "mimetype": "text/x-python",
   "name": "python",
   "nbconvert_exporter": "python",
   "pygments_lexer": "ipython3",
   "version": "3.8.5"
  }
 },
 "nbformat": 4,
 "nbformat_minor": 5
}
